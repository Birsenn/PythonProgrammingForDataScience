{
 "cells": [
  {
   "cell_type": "markdown",
   "id": "a5e4e614",
   "metadata": {},
   "source": [
    "# kullanıcı girisi programı"
   ]
  },
  {
   "cell_type": "code",
   "execution_count": 5,
   "id": "458dec63",
   "metadata": {},
   "outputs": [
    {
     "name": "stdout",
     "output_type": "stream",
     "text": [
      "\n",
      "**************\n",
      "Kullanıcı Girişi\n",
      "**************\n",
      "\n",
      "kullanıcı:bbas\n",
      "parola:12345\n",
      "sisteme başarıyla giriş yaptınız :)\n"
     ]
    }
   ],
   "source": [
    "print(\"\"\"\n",
    "**************\n",
    "Kullanıcı Girişi\n",
    "**************\n",
    "\"\"\")\n",
    "\n",
    "sys_kullanıcı_adı = \"bbas\"\n",
    "sys_parola =\"12345\"\n",
    "\n",
    "kullanıcı_adı = input(\"kullanıcı:\")\n",
    "parola = input(\"parola:\")\n",
    "\n",
    "if sys_kullanıcı_adı == kullanıcı_adı and sys_parola != parola:\n",
    "    print(\"parola hatalı!\")\n",
    "elif sys_kullanıcı_adı != kullanıcı_adı and sys_parola == parola:\n",
    "    print(\"kullanıcı adı hatalı!\")\n",
    "elif sys_kullanıcı_adı != kullanıcı_adı and sys_parola != parola:\n",
    "    print(\"kullanıcı adı ve parola hatalı!\")\n",
    "else:\n",
    "    print(\"sisteme başarıyla giriş yaptınız :)\")"
   ]
  },
  {
   "cell_type": "markdown",
   "id": "ddc5ed95",
   "metadata": {},
   "source": [
    "# giriş hakkı sınırlama ve başa dönme (while)"
   ]
  },
  {
   "cell_type": "code",
   "execution_count": 9,
   "id": "6ffd8769",
   "metadata": {},
   "outputs": [
    {
     "name": "stdout",
     "output_type": "stream",
     "text": [
      "\n",
      "**************\n",
      "Kullanıcı Girişi\n",
      "**************\n",
      "\n",
      "Kullanıcı Adı:birsen\n",
      "Parola:12345\n",
      "Kullanıcı Adı:bbas\n",
      "Parola:123\n",
      "Parolanızı mı unuttunuz?\n",
      "Kullanıcı Adı:şvfiçiv\n",
      "Parola:çfidçf\n",
      "Kullanıcı adı ve parola hatalı!\n",
      "Kullanıcı Adı:sdöşösi\n",
      "Parola:ödşsödş\n",
      "Kullanıcı adı ve parola hatalı!\n",
      "Giriş hakkınız bitti!\n"
     ]
    }
   ],
   "source": [
    "print(\"\"\"\n",
    "**************\n",
    "Kullanıcı Girişi\n",
    "**************\n",
    "\"\"\")\n",
    "\n",
    "sys_kullanıcı = \"bbas\"\n",
    "sys_parola = \"12345\"\n",
    "\n",
    "kullanıcı = input(\"Kullanıcı Adı:\")\n",
    "parola = input(\"Parola:\")\n",
    "giris_hakkı = 3\n",
    "\n",
    "while True:\n",
    "    kullanıcı = input(\"Kullanıcı Adı:\")\n",
    "    parola = input(\"Parola:\")\n",
    "    if sys_kullanıcı == kullanıcı and sys_parola != parola:\n",
    "        print(\"Parolanızı mı unuttunuz?\")\n",
    "        giris_hakkı -= 1\n",
    "    elif sys_kullanıcı != kullanıcı and sys_parola == parola:\n",
    "        print(\"Kullanıcı adınızı yanlış girdiniz!\")\n",
    "        giris_hakkı -= 1\n",
    "    elif sys_kullanıcı != kullanıcı and sys_parola != parola:\n",
    "        print(\"Kullanıcı adı ve parola hatalı!\")\n",
    "        giris_hakkı -= 1\n",
    "    else:\n",
    "        print(\"Başarıyla giriş yaptınız\")\n",
    "        break\n",
    "    if giris_hakkı == 0:\n",
    "        print(\"Giriş hakkınız bitti!\")\n",
    "        break\n",
    "        "
   ]
  },
  {
   "cell_type": "code",
   "execution_count": null,
   "id": "dff10361",
   "metadata": {},
   "outputs": [],
   "source": []
  },
  {
   "cell_type": "code",
   "execution_count": null,
   "id": "6576cb1e",
   "metadata": {},
   "outputs": [],
   "source": []
  }
 ],
 "metadata": {
  "kernelspec": {
   "display_name": "Python 3 (ipykernel)",
   "language": "python",
   "name": "python3"
  },
  "language_info": {
   "codemirror_mode": {
    "name": "ipython",
    "version": 3
   },
   "file_extension": ".py",
   "mimetype": "text/x-python",
   "name": "python",
   "nbconvert_exporter": "python",
   "pygments_lexer": "ipython3",
   "version": "3.9.7"
  }
 },
 "nbformat": 4,
 "nbformat_minor": 5
}
