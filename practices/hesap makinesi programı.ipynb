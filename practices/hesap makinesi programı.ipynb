{
 "cells": [
  {
   "cell_type": "markdown",
   "id": "18ba01ad",
   "metadata": {},
   "source": [
    "# hesap makinesi"
   ]
  },
  {
   "cell_type": "code",
   "execution_count": 24,
   "id": "1627cd3b",
   "metadata": {},
   "outputs": [
    {
     "name": "stdout",
     "output_type": "stream",
     "text": [
      "*********\n",
      "hesap makinesi programı\n",
      "     \n",
      "İşlemler;\n",
      "1. Toplama İşlemi\n",
      "2. Çıkarma İşlemi\n",
      "3. Bölme İşlemi\n",
      "4. Çarpma İşlemi\n",
      "\n",
      "\n",
      "***************\n",
      "\n",
      "birinci sayı: 4\n",
      "ikinci sayı: 3\n",
      "İşlem giriniz:1\n",
      "4 ile 3 in toplamı 7 dir\n"
     ]
    }
   ],
   "source": [
    "print(\"\"\"*********\n",
    "hesap makinesi programı\n",
    "     \n",
    "İşlemler;\n",
    "1. Toplama İşlemi\n",
    "2. Çıkarma İşlemi\n",
    "3. Bölme İşlemi\n",
    "4. Çarpma İşlemi\n",
    "\n",
    "\n",
    "***************\n",
    "\"\"\")\n",
    "\n",
    "a = int(input(\"birinci sayı: \"))\n",
    "b = int(input(\"ikinci sayı: \"))\n",
    "        \n",
    "işlem = input(\"İşlem giriniz:\")\n",
    "\n",
    "if işlem == \"1\":\n",
    "        print(\"{} ile {} in toplamı {} dir\".format(a,b,a+b))\n",
    "        \n",
    "elif işlem == \"2\":\n",
    "        print(\"{} ile {} in farkı {} dir\".format(a,b,a-b))\n",
    "        \n",
    "elif işlem == \"3\":\n",
    "        print(\"{} ile {} in bölümü {} dir\".format(a,b,a/b))\n",
    "        \n",
    "elif işlem == \"4\":\n",
    "        print(\"{} ile {} in çarpımı {} dir\".format(a,b,a*b))\n",
    "        \n",
    "else:\n",
    "        print(\"İşlem Hatalı!\")\n",
    "    "
   ]
  },
  {
   "cell_type": "code",
   "execution_count": 17,
   "id": "5518089f",
   "metadata": {},
   "outputs": [
    {
     "ename": "SyntaxError",
     "evalue": "invalid syntax (3273396876.py, line 2)",
     "output_type": "error",
     "traceback": [
      "\u001b[0;36m  File \u001b[0;32m\"/var/folders/90/_lwt0ls51gv2bkw5mnzmk25r0000gp/T/ipykernel_25814/3273396876.py\"\u001b[0;36m, line \u001b[0;32m2\u001b[0m\n\u001b[0;31m    b = int(input(\"ikinci sayı: \")\u001b[0m\n\u001b[0m    ^\u001b[0m\n\u001b[0;31mSyntaxError\u001b[0m\u001b[0;31m:\u001b[0m invalid syntax\n"
     ]
    }
   ],
   "source": [
    "a = int(input(\"birinci sayı: \")\n",
    "b = int(input(\"ikinci sayı: \")\n",
    "        \n",
    "işlem = input(\"İşlem giriniz\")\n",
    "\n",
    "if işlem == 1:\n",
    "        print(\"{} ile {} in toplamı {} dir\".format(a,b,a+b))\n",
    "        \n",
    "elif işlem == 2:\n",
    "        print(\"{} ile {} in farkı {} dir\".format(a,b,a-b))\n",
    "        \n",
    "elif işlem == 3:\n",
    "        print(\"{} ile {} in bölümü {} dir\".format(a,b,a/b))\n",
    "        \n",
    "elif işlem == 4:\n",
    "        print(\"{} ile {} in çarpımı {} dir\".format(a,b,a*b))\n",
    "        \n",
    "else:\n",
    "        print(\"İşlem Hatalı!\")\n",
    "    "
   ]
  },
  {
   "cell_type": "code",
   "execution_count": null,
   "id": "04ae24ed",
   "metadata": {},
   "outputs": [],
   "source": [
    "print(\"\"\"*********\n",
    "Hesap Makinesi Ğrpgramı\n",
    "\n",
    "işlemler;\n",
    "   1. Toplama İşlemi\n"
   ]
  },
  {
   "cell_type": "code",
   "execution_count": null,
   "id": "d59a977a",
   "metadata": {},
   "outputs": [],
   "source": []
  }
 ],
 "metadata": {
  "kernelspec": {
   "display_name": "Python 3 (ipykernel)",
   "language": "python",
   "name": "python3"
  },
  "language_info": {
   "codemirror_mode": {
    "name": "ipython",
    "version": 3
   },
   "file_extension": ".py",
   "mimetype": "text/x-python",
   "name": "python",
   "nbconvert_exporter": "python",
   "pygments_lexer": "ipython3",
   "version": "3.9.7"
  }
 },
 "nbformat": 4,
 "nbformat_minor": 5
}
