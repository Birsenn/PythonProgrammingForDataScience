{
 "cells": [
  {
   "cell_type": "code",
   "execution_count": 10,
   "id": "c609cd07",
   "metadata": {},
   "outputs": [
    {
     "name": "stdout",
     "output_type": "stream",
     "text": [
      "\n",
      "******************************\n",
      "fakröriyel Bulma\n",
      "\n",
      "Çıkmak için \"q\" ya basınız.\n",
      "\n",
      "******************************\n",
      "\n",
      "sayı:5\n",
      "120\n",
      "sayı:6\n",
      "720\n",
      "sayı:8\n",
      "40320\n",
      "sayı:3\n",
      "6\n",
      "sayı:q\n",
      "programdan çıkış yapıyorsunuz\n"
     ]
    }
   ],
   "source": [
    "print(\"\"\"\n",
    "******************************\n",
    "fakröriyel Bulma\n",
    "\n",
    "Çıkmak için \"q\" ya basınız.\n",
    "\n",
    "******************************\n",
    "\"\"\")\n",
    "\n",
    "while True:\n",
    "    sayı = input(\"sayı:\")\n",
    "    if sayı == \"q\":\n",
    "        print(\"programdan çıkış yapıyorsunuz\")\n",
    "        break\n",
    "    else:\n",
    "        sayı = int(sayı)\n",
    "        \n",
    "        faktöriyel = 1\n",
    "            \n",
    "        for i in range (2, sayı+1):\n",
    "            faktöriyel *= i\n",
    "        print(faktöriyel)\n",
    "        "
   ]
  },
  {
   "cell_type": "code",
   "execution_count": null,
   "id": "8a63ce40",
   "metadata": {},
   "outputs": [],
   "source": []
  }
 ],
 "metadata": {
  "kernelspec": {
   "display_name": "Python 3 (ipykernel)",
   "language": "python",
   "name": "python3"
  },
  "language_info": {
   "codemirror_mode": {
    "name": "ipython",
    "version": 3
   },
   "file_extension": ".py",
   "mimetype": "text/x-python",
   "name": "python",
   "nbconvert_exporter": "python",
   "pygments_lexer": "ipython3",
   "version": "3.9.7"
  }
 },
 "nbformat": 4,
 "nbformat_minor": 5
}
