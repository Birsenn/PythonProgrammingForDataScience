{
 "cells": [
  {
   "cell_type": "code",
   "execution_count": 8,
   "id": "88b6b56a",
   "metadata": {},
   "outputs": [
    {
     "name": "stdout",
     "output_type": "stream",
     "text": [
      "a:1\n",
      "b:-4\n",
      "c:4\n",
      "Birinci Kök: 2.0\n",
      "İkinci Kök: 2.0\n",
      "\n"
     ]
    }
   ],
   "source": [
    "a = int(input(\"a:\"))\n",
    "b = int(input(\"b:\"))\n",
    "c = int(input(\"c:\"))\n",
    "\n",
    "delta = b**2-4*a*c\n",
    "\n",
    "x1 = (-b-delta**0.5)/2*a\n",
    "x2 = (-b+delta**0.5)/2*a\n",
    "\n",
    "print(\"Birinci Kök: {}\\nİkinci Kök: {}\\n\".format(x1,x2))"
   ]
  },
  {
   "cell_type": "code",
   "execution_count": null,
   "id": "a79ddce8",
   "metadata": {},
   "outputs": [],
   "source": []
  }
 ],
 "metadata": {
  "kernelspec": {
   "display_name": "Python 3 (ipykernel)",
   "language": "python",
   "name": "python3"
  },
  "language_info": {
   "codemirror_mode": {
    "name": "ipython",
    "version": 3
   },
   "file_extension": ".py",
   "mimetype": "text/x-python",
   "name": "python",
   "nbconvert_exporter": "python",
   "pygments_lexer": "ipython3",
   "version": "3.9.7"
  }
 },
 "nbformat": 4,
 "nbformat_minor": 5
}
