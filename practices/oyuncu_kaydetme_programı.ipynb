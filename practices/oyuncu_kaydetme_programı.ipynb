{
 "cells": [
  {
   "cell_type": "code",
   "execution_count": 14,
   "id": "06a85384",
   "metadata": {},
   "outputs": [
    {
     "name": "stdout",
     "output_type": "stream",
     "text": [
      "Oyuncu Kaydetme Programı\n",
      "Oyuncunun Adı:oğuz\n",
      "Oyuncunun Soyadı:bayat\n",
      "Oyuncunun Takımı:fb\n",
      "Bilgiler Kaydediliyor...\n",
      "Oyuncunun Adı: oğuz\n",
      "Oyuncunun Soyadı: bayat\n",
      "Oyuncunun Takımı: fb\n",
      "\n",
      "Bilgiler Kaydedildi...\n"
     ]
    }
   ],
   "source": [
    "print(\"Oyuncu Kaydetme Programı\")\n",
    "\n",
    "ad = input(\"Oyuncunun Adı:\")\n",
    "soyad = input(\"Oyuncunun Soyadı:\")\n",
    "takım = input(\"Oyuncunun Takımı:\")\n",
    "\n",
    "print(\"Bilgiler Kaydediliyor...\")\n",
    "\n",
    "bilgiler = [ad, soyad, takım]\n",
    "\n",
    "print(\"Oyuncunun Adı: {}\\nOyuncunun Soyadı: {}\\nOyuncunun Takımı: {}\\n\".format(bilgiler[0],bilgiler[1],bilgiler[2]))\n",
    "\n",
    "print(\"Bilgiler Kaydedildi...\")"
   ]
  },
  {
   "cell_type": "code",
   "execution_count": 15,
   "id": "5c726e25",
   "metadata": {},
   "outputs": [
    {
     "name": "stdout",
     "output_type": "stream",
     "text": [
      "['oğuz', 'bayat', 'fb']\n"
     ]
    }
   ],
   "source": []
  },
  {
   "cell_type": "code",
   "execution_count": null,
   "id": "67f74bf2",
   "metadata": {},
   "outputs": [],
   "source": []
  },
  {
   "cell_type": "code",
   "execution_count": null,
   "id": "a32191f8",
   "metadata": {},
   "outputs": [],
   "source": []
  }
 ],
 "metadata": {
  "kernelspec": {
   "display_name": "Python 3 (ipykernel)",
   "language": "python",
   "name": "python3"
  },
  "language_info": {
   "codemirror_mode": {
    "name": "ipython",
    "version": 3
   },
   "file_extension": ".py",
   "mimetype": "text/x-python",
   "name": "python",
   "nbconvert_exporter": "python",
   "pygments_lexer": "ipython3",
   "version": "3.9.7"
  }
 },
 "nbformat": 4,
 "nbformat_minor": 5
}
