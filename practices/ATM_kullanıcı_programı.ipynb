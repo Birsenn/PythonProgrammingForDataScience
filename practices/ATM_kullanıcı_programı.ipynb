{
 "cells": [
  {
   "cell_type": "markdown",
   "id": "60004309",
   "metadata": {},
   "source": [
    "# atm programı"
   ]
  },
  {
   "cell_type": "code",
   "execution_count": null,
   "id": "d1c61a1f",
   "metadata": {},
   "outputs": [],
   "source": [
    "print(\"\"\"\n",
    "**************************\n",
    "ATM Kullanıcı Programına Hoşgeldiniz.\n",
    "\n",
    "1.Bakiye Sorgulama\n",
    "2.Para Yatırma\n",
    "3.Para Çekme\n",
    "\n",
    "Programdan çıkmak için \"q\" ya basınız.\n",
    "\n",
    "**************************\n",
    "\"\"\")\n",
    "\n",
    "\n",
    "bakiye = 1000\n",
    "\n",
    "while True:\n",
    "    işlem = input(\"İşlemi seçiniz:\")\n",
    "    \n",
    "    if işlem == \"q\":\n",
    "        print(\"Çıkış yapıyorsunuz\")\n",
    "        break\n",
    "    elif işlem == \"1\":\n",
    "        print(\"Bakiyeniz {} tl dir\".format(bakiye))\n",
    "    elif işlem == \"2\":\n",
    "        miktar = int(input(\"Lütfen miktar giriniz:\"))\n",
    "        bakiye += miktar\n",
    "    elif işlem == \"3\":\n",
    "        miktar == int(input(\"Lütfen miktar giriniz:\"))\n",
    "        if bakiye - miktar < 0:\n",
    "            print(\"Bakiye yetersiz\")\n",
    "            continue\n",
    "        bakiye -= miktar\n",
    "    else:\n",
    "        print(\"Geçersiz işlem...\")"
   ]
  },
  {
   "cell_type": "code",
   "execution_count": null,
   "id": "3e0a4e49",
   "metadata": {},
   "outputs": [],
   "source": []
  }
 ],
 "metadata": {
  "kernelspec": {
   "display_name": "Python 3 (ipykernel)",
   "language": "python",
   "name": "python3"
  },
  "language_info": {
   "codemirror_mode": {
    "name": "ipython",
    "version": 3
   },
   "file_extension": ".py",
   "mimetype": "text/x-python",
   "name": "python",
   "nbconvert_exporter": "python",
   "pygments_lexer": "ipython3",
   "version": "3.9.7"
  }
 },
 "nbformat": 4,
 "nbformat_minor": 5
}
