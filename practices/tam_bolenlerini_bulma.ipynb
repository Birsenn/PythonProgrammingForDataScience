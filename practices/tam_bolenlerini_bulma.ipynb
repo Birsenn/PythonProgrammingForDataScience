{
 "cells": [
  {
   "cell_type": "code",
   "execution_count": 1,
   "id": "74c7b9be",
   "metadata": {},
   "outputs": [],
   "source": [
    "#tam bölenlerini bulma"
   ]
  },
  {
   "cell_type": "code",
   "execution_count": null,
   "id": "32845fca",
   "metadata": {},
   "outputs": [
    {
     "name": "stdout",
     "output_type": "stream",
     "text": [
      "sayı giriniz:99\n",
      "Tam bölenler: [3, 9, 11, 33]\n"
     ]
    }
   ],
   "source": [
    "def tambolenler(sayı):\n",
    "    tam_bolenler = []\n",
    "    \n",
    "    for i in range(2,sayı):\n",
    "        \n",
    "        if sayı % i == 0:\n",
    "            tam_bolenler.append(i)\n",
    "            \n",
    "    return tam_bolenler\n",
    "\n",
    "while True:\n",
    "    \n",
    "    sayı = input(\"sayı giriniz:\")\n",
    "    \n",
    "    if sayı == \"q\":\n",
    "        print(\"program sonlandırılıyor\")\n",
    "        break\n",
    "    else:\n",
    "        sayı = int(sayı)\n",
    "        \n",
    "        print(\"Tam bölenler:\", tambolenler(sayı))\n"
   ]
  },
  {
   "cell_type": "code",
   "execution_count": 1,
   "id": "7b546ac7",
   "metadata": {},
   "outputs": [
    {
     "name": "stdout",
     "output_type": "stream",
     "text": [
      "['This', 'is', 'a', 'sentence', '.']\n"
     ]
    },
    {
     "name": "stderr",
     "output_type": "stream",
     "text": [
      "[nltk_data] Downloading package punkt to /Users/birsenbas/nltk_data...\n",
      "[nltk_data]   Package punkt is already up-to-date!\n"
     ]
    }
   ],
   "source": [
    "import nltk\n",
    "\n",
    "# download the necessary resources\n",
    "nltk.download('punkt')\n",
    "\n",
    "# tokenize a sentence\n",
    "sentence = \"This is a sentence.\"\n",
    "tokens = nltk.word_tokenize(sentence)\n",
    "print(tokens)"
   ]
  },
  {
   "cell_type": "code",
   "execution_count": null,
   "id": "5190f2d6",
   "metadata": {},
   "outputs": [],
   "source": []
  }
 ],
 "metadata": {
  "kernelspec": {
   "display_name": "Python 3 (ipykernel)",
   "language": "python",
   "name": "python3"
  },
  "language_info": {
   "codemirror_mode": {
    "name": "ipython",
    "version": 3
   },
   "file_extension": ".py",
   "mimetype": "text/x-python",
   "name": "python",
   "nbconvert_exporter": "python",
   "pygments_lexer": "ipython3",
   "version": "3.9.7"
  }
 },
 "nbformat": 4,
 "nbformat_minor": 5
}
